{
 "cells": [
  {
   "cell_type": "markdown",
   "metadata": {
    "id": "qyGp0UeAKxer"
   },
   "source": [
    "# Algoritmo para adição da coluna de data no dataset "
   ]
  },
  {
   "cell_type": "markdown",
   "metadata": {},
   "source": [
    "### Após a execução do tratamento textual é realizado a etapa de aperfeiçoamento dos dados via Web Scraping utilizando o dataset resultante do tratamento textual"
   ]
  },
  {
   "cell_type": "code",
   "execution_count": null,
   "metadata": {},
   "outputs": [],
   "source": [
    "#Realizando leitura do dataset fakepedia\n",
    "df = pd.read_csv(\"./datasetnew/treated_dataset2.csv\", header=0, sep=\";\")"
   ]
  },
  {
   "cell_type": "code",
   "execution_count": null,
   "metadata": {
    "id": "xRw1Eb7YLKZM"
   },
   "outputs": [],
   "source": [
    "#Importando biblioteca para fazer requisições \n",
    "import requests"
   ]
  },
  {
   "cell_type": "code",
   "execution_count": null,
   "metadata": {
    "colab": {
     "base_uri": "https://localhost:8080/"
    },
    "id": "DPqgoX_ILKkC",
    "outputId": "e357eca7-4a06-4fd1-866e-eadb915b0dbc"
   },
   "outputs": [],
   "source": [
    "!pip install bs4"
   ]
  },
  {
   "cell_type": "code",
   "execution_count": null,
   "metadata": {
    "id": "JxzXRRtILKt8"
   },
   "outputs": [],
   "source": [
    "#Importando bs4\n",
    "from bs4 import BeautifulSoup"
   ]
  },
  {
   "cell_type": "code",
   "execution_count": null,
   "metadata": {
    "scrolled": true
   },
   "outputs": [],
   "source": [
    "#Resetando os índices do dataset\n",
    "df = df.reset_index(drop=True)"
   ]
  },
  {
   "cell_type": "code",
   "execution_count": null,
   "metadata": {},
   "outputs": [],
   "source": [
    "df['category'] = pd.Series() "
   ]
  },
  {
   "cell_type": "code",
   "execution_count": null,
   "metadata": {
    "scrolled": true
   },
   "outputs": [],
   "source": [
    "#NOVA SOLUÇÃO FUNCIONAL REQUEST CATEGORY\n",
    "import urllib\n",
    "from urllib.error import HTTPError\n",
    "import http.client\n",
    "http.client.HTTPConnection._http_vsn = 10\n",
    "http.client.HTTPConnection._http_vsn_str = 'HTTP/1.0'\n",
    "for i in range(0, len(df)):\n",
    "    try:\n",
    "        req = urllib.request.Request(df['url_review'][i])\n",
    "        req.add_header('User-Agent', 'Mozilla/5.0 (Platform; Security; OS-or-CPU; Localization; rv:1.4) Gecko/20030624 Netscape/7.1 (ax)')\n",
    "        response = urllib.request.urlopen(req)\n",
    "        if response.getcode()==200:\n",
    "            try:\n",
    "                data = response.read()    \n",
    "            except (http.client.IncompleteRead) as e:\n",
    "                data = e.partial\n",
    "            site = BeautifulSoup(data, 'html.parser')\n",
    "            if(df['url_review'][i]!='https://www.boatos.org/contato ' and df['url_review'][i]!='https://www.boatos.org/autores ' and df['url_review'][i]!='https://www.boatos.org/pesquise ' and df['url_review'][i]!='https://www.boatos.org/politica-de-privacidade ' and df['url_review'][i]!='https://www.boatos.org/tecnologia/assai-atacadista-doando-alcool-gel-cestas-basica-coronavirus.html '):\n",
    "                data = site.find('a', {'rel': 'category tag'}).text\n",
    "                df['category'][i] = data\n",
    "                print(i)\n",
    "            else:\n",
    "                df['category'][i] = 'Categoria não informada'\n",
    "                print(i)\n",
    "        else:\n",
    "            print(response.getcode())\n",
    "            print(i)\n",
    "            df['category'][i] = 'URL indisponível'\n",
    "    except HTTPError as e:\n",
    "        data = e.read()\n",
    "        site = BeautifulSoup(data, 'html.parser')\n",
    "        if(df['url_review'][i]!='https://www.boatos.org/contato ' and df['url_review'][i]!='https://www.boatos.org/autores ' and df['url_review'][i]!='https://www.boatos.org/pesquise ' and df['url_review'][i]!='https://www.boatos.org/politica-de-privacidade ' and df['url_review'][i]!='https://www.boatos.org/tecnologia/assai-atacadista-doando-alcool-gel-cestas-basica-coronavirus.html '):\n",
    "            data = site.find('a', {'rel': 'category tag'}).text\n",
    "            df['category'][i] = data\n",
    "            print(i)\n",
    "        else:\n",
    "            df['category'][i] = 'Categoria não informada'\n",
    "            print(i)"
   ]
  },
  {
   "cell_type": "markdown",
   "metadata": {},
   "source": [
    "## Preparação final arquivo csv"
   ]
  },
  {
   "cell_type": "code",
   "execution_count": null,
   "metadata": {},
   "outputs": [],
   "source": [
    "#Verificando tamanho do dataset\n",
    "df.shape"
   ]
  },
  {
   "cell_type": "code",
   "execution_count": null,
   "metadata": {},
   "outputs": [],
   "source": [
    "#SALVANDO CSV FINAL DO TRATAMENTO\n",
    "#df.to_csv(\"./datasetnew/treated_dataset3.csv\", sep=';')"
   ]
  }
 ],
 "metadata": {
  "colab": {
   "collapsed_sections": [],
   "name": "Tratamento_Inicial.ipynb",
   "provenance": []
  },
  "kernelspec": {
   "display_name": "Python 3 (ipykernel)",
   "language": "python",
   "name": "python3"
  },
  "language_info": {
   "codemirror_mode": {
    "name": "ipython",
    "version": 3
   },
   "file_extension": ".py",
   "mimetype": "text/x-python",
   "name": "python",
   "nbconvert_exporter": "python",
   "pygments_lexer": "ipython3",
   "version": "3.7.3"
  }
 },
 "nbformat": 4,
 "nbformat_minor": 1
}
